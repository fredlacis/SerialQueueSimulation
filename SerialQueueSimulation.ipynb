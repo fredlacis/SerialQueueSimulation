{
 "cells": [
  {
   "cell_type": "markdown",
   "metadata": {
    "colab_type": "text",
    "id": "bV3Vd66s3p6w"
   },
   "source": [
    "# Serial Queue Simulation\n",
    "\n",
    "## Authors:\n",
    "> Frederico Lacis\n",
    "\n",
    "> Daniel Carlier"
   ]
  },
  {
   "cell_type": "code",
   "execution_count": 201,
   "metadata": {
    "colab": {},
    "colab_type": "code",
    "id": "U7QAXBu4u5Lv"
   },
   "outputs": [],
   "source": [
    "import numpy as np\n",
    "from numpy import random\n",
    "import scipy.stats\n",
    "import math\n",
    "\n",
    "from datetime import date\n",
    "\n",
    "import csv\n",
    "import os\n",
    "import pandas as pd"
   ]
  },
  {
   "cell_type": "code",
   "execution_count": 185,
   "metadata": {
    "colab": {},
    "colab_type": "code",
    "id": "D5HUdyJB4jQu"
   },
   "outputs": [],
   "source": [
    "today = date.today().strftime('%d/%m/%Y')"
   ]
  },
  {
   "cell_type": "markdown",
   "metadata": {
    "colab_type": "text",
    "id": "XJ6BtUBm5D7H"
   },
   "source": [
    "### Auxiliary Functions"
   ]
  },
  {
   "cell_type": "code",
   "execution_count": 186,
   "metadata": {
    "colab": {},
    "colab_type": "code",
    "id": "wQEZTqNve-C4"
   },
   "outputs": [],
   "source": [
    "def hours(t):\n",
    "    s = int(t*3600)\n",
    "    m = int(s/60)\n",
    "    h = int(m/60)\n",
    "    return int(h)"
   ]
  },
  {
   "cell_type": "code",
   "execution_count": 187,
   "metadata": {
    "colab": {},
    "colab_type": "code",
    "id": "jnPV9ENE3ipw"
   },
   "outputs": [],
   "source": [
    "def minutes(t):\n",
    "    s = int(t*3600)\n",
    "    m = int(s/60)\n",
    "    h = int(m/60)\n",
    "    return int(m-60*h)"
   ]
  },
  {
   "cell_type": "code",
   "execution_count": 188,
   "metadata": {
    "colab": {},
    "colab_type": "code",
    "id": "ofa_gmOf3i5C"
   },
   "outputs": [],
   "source": [
    "def seconds(t):\n",
    "    s = int(t*3600.0)\n",
    "    m = int(s/60)\n",
    "    return int(s-60*m)"
   ]
  },
  {
   "cell_type": "code",
   "execution_count": 189,
   "metadata": {
    "colab": {},
    "colab_type": "code",
    "id": "ETMvkBh_ukAT"
   },
   "outputs": [],
   "source": [
    "def by_entry(e):\n",
    "    return e['entry']"
   ]
  },
  {
   "cell_type": "markdown",
   "metadata": {
    "colab_type": "text",
    "id": "NE1n3lqt5ToV"
   },
   "source": [
    "### Exponential random variable with gamma rate"
   ]
  },
  {
   "cell_type": "code",
   "execution_count": 190,
   "metadata": {
    "colab": {},
    "colab_type": "code",
    "id": "CkPC0-f-u_YF"
   },
   "outputs": [],
   "source": [
    "def exponential_distribution(gamma):\n",
    "    x = np.random.sample(1)\n",
    "    return - math.log(x)/gamma"
   ]
  },
  {
   "cell_type": "markdown",
   "metadata": {
    "colab_type": "text",
    "id": "BYiMPXUu5ZP5"
   },
   "source": [
    "### Rate(t)"
   ]
  },
  {
   "cell_type": "code",
   "execution_count": 191,
   "metadata": {
    "colab": {},
    "colab_type": "code",
    "id": "M-wysYjvvB2h"
   },
   "outputs": [],
   "source": [
    "def rate(t):\n",
    "    if(t < 1.0):\n",
    "        return 10.0\n",
    "    elif (t < 2.0):\n",
    "        return 5.0\n",
    "    elif (t < 3.0):\n",
    "        return 10.0\n",
    "    elif (t < 4.0):\n",
    "        return 2.0\n",
    "    elif (t < 5.0):\n",
    "        return 5.0\n",
    "    else:\n",
    "        return 10.0"
   ]
  },
  {
   "cell_type": "markdown",
   "metadata": {
    "colab_type": "text",
    "id": "B1fwWNYo5dRB"
   },
   "source": [
    "### Non-Homogeneous Poisson Process with Rate(t)"
   ]
  },
  {
   "cell_type": "code",
   "execution_count": 192,
   "metadata": {
    "colab": {},
    "colab_type": "code",
    "id": "jyIboNJ8vEBT"
   },
   "outputs": [],
   "source": [
    "def non_homogeneous_poisson(rate,ratemax,closing_time):\n",
    "    global logs\n",
    "    global log\n",
    "    people_id = 0\n",
    "    entry_times = []\n",
    "    entry = 0.0\n",
    "    while (1):\n",
    "        Z = exponential_distribution(ratemax)\n",
    "        entry += Z\n",
    "\n",
    "        if (entry < closing_time):\n",
    "            U = np.random.sample(1)\n",
    "            \n",
    "            if (U < rate(entry)/ratemax):\n",
    "                people_id += 1\n",
    "                entry_times.append(dict(entry=entry,person=people_id))\n",
    "                global today\n",
    "                hour = hours(entry)\n",
    "                minute = minutes(entry)\n",
    "                second = seconds(entry)\n",
    "                logs.append(dict(entry=entry,message = \"%s: %2s:%2s:%2s, %d, Entered the system\" % (today,str(hour).zfill(2),str(minute).zfill(2),str(second).zfill(2),people_id)))\n",
    "        else:\n",
    "            break\n",
    "\n",
    "    return (people_id,entry_times)"
   ]
  },
  {
   "cell_type": "markdown",
   "metadata": {
    "colab_type": "text",
    "id": "AbHlnspaKekQ"
   },
   "source": [
    "### Serial Queue\n",
    "> Returns idle time and list of updated entry times."
   ]
  },
  {
   "cell_type": "code",
   "execution_count": 193,
   "metadata": {
    "colab": {},
    "colab_type": "code",
    "id": "gBaIudXJumle"
   },
   "outputs": [],
   "source": [
    "def serial_queue(rate, ratemax, closing_time, entry_times, cashier_amounts, gamma, people_amount, stage):\n",
    "    global logs\n",
    "    global log\n",
    "    entry_times.sort(key=by_entry)\n",
    "    idle_time = 0.0\n",
    "    available = np.zeros(cashier_amounts)\n",
    "\n",
    "    for person in range(people_amount) :\n",
    "        attendance_duration = exponential_distribution(gamma)\n",
    "        cashier = np.argmin(available)\n",
    "        idle_time += max(entry_times[person]['entry'] - available[cashier], 0.0)\n",
    "        available[cashier] = max(entry_times[person]['entry'],available[cashier])\n",
    "        global today\n",
    "        hour = hours(available[cashier])\n",
    "        minute = minutes(available[cashier])\n",
    "        second = seconds(available[cashier])\n",
    "        logs.append(dict(entry=available[cashier],message = \"%s: %2s:%2s:%2s, %d, Answered by cashier %d at stage %d\" % (today,str(hour).zfill(2),str(minute).zfill(2),str(second).zfill(2),person+1,cashier+1,stage+1)))\n",
    "        available[cashier] += attendance_duration\n",
    "        entry_times[person]['entry'] = available[cashier]\n",
    " \n",
    "    return idle_time, entry_times"
   ]
  },
  {
   "cell_type": "markdown",
   "metadata": {
    "colab_type": "text",
    "id": "CSfxohIGKwKY"
   },
   "source": [
    "### Calculate Idle Time\n",
    "> Returns an array with idle time at each stage."
   ]
  },
  {
   "cell_type": "code",
   "execution_count": 194,
   "metadata": {
    "colab": {},
    "colab_type": "code",
    "id": "JJoBM_OyuqCk"
   },
   "outputs": [],
   "source": [
    "def calculate_idle_time (rate, rate_max, closing_time, stages, cashier_amounts, gamma):\n",
    "# T -> closing_time\n",
    "# m -> cashier_amounts\n",
    "# n ->  stages\n",
    "    global logs\n",
    "    global log\n",
    "    global today\n",
    "   \n",
    "    people_amount, entry_times = non_homogeneous_poisson(rate,rate_max,closing_time)\n",
    "    idle_by_stage = np.zeros(stages)\n",
    "    idle_by_stage[0] += entry_times[0]['entry']\n",
    "\n",
    "    for stage in range(stages) :\n",
    "        idle_time, entry_times = serial_queue(rate, rate_max, closing_time, entry_times, cashier_amounts[stage], gamma, people_amount, stage)\n",
    "        entry_times.sort(key=by_entry)\n",
    "        idle_by_stage[stage] += idle_time\n",
    "\n",
    "    for person in range(people_amount) :\n",
    "        second = seconds(entry_times[person]['entry'])\n",
    "        minute = minutes(entry_times[person]['entry'])\n",
    "        hour = hours(entry_times[person]['entry'])\n",
    "        logs.append(dict(entry=entry_times[person]['entry'],message = \"%s: %2s:%2s:%2s, %d, Got out of the system\" % (today,str(hour).zfill(2),str(minute).zfill(2),str(second).zfill(2),person+1)))        \n",
    "    return idle_by_stage"
   ]
  },
  {
   "cell_type": "markdown",
   "metadata": {},
   "source": [
    "> ## Running"
   ]
  },
  {
   "cell_type": "code",
   "execution_count": 229,
   "metadata": {
    "colab": {
     "base_uri": "https://localhost:8080/",
     "height": 1000
    },
    "colab_type": "code",
    "executionInfo": {
     "elapsed": 1170,
     "status": "ok",
     "timestamp": 1575265626394,
     "user": {
      "displayName": "Daniel Carlier",
      "photoUrl": "https://lh3.googleusercontent.com/a-/AAuE7mAdXGgjSjqWAa7PIZEwQa3ulm05Ujo2WfIY7vgu=s64",
      "userId": "13067588013195259910"
     },
     "user_tz": 180
    },
    "id": "3sYIVCiCur4D",
    "outputId": "f8ea1a94-d8d1-400d-bce6-f5577e794a57"
   },
   "outputs": [
    {
     "name": "stdout",
     "output_type": "stream",
     "text": [
      "Idle time for each stage:\n",
      "\n",
      "\t • 6.6464607677929575\n",
      "\t • 11.990088178119773\n",
      "\t • 7.594078142945912\n",
      "\t • 4.712184998339385\n",
      "\t • 3.3589974383478243\n",
      "\t • 234.55012322785683\n",
      "\t • 473.82970563442575\n"
     ]
    }
   ],
   "source": [
    "global logs\n",
    "logs = []\n",
    "\n",
    "# Parameters\n",
    "gamma = 1.5\n",
    "rate_max = 10.0\n",
    "closing_time = 6.0\n",
    "stages = 7\n",
    "cashier_amounts = [5,4,3,2,1,9,19] \n",
    "\n",
    "results = calculate_idle_time (rate, rate_max, closing_time, stages, cashier_amounts, gamma)\n",
    "\n",
    "print('Idle time for each stage:\\n')\n",
    "for result in results:\n",
    "    print('\\t • ' + str(result))\n",
    "    \n",
    "logs.sort(key=by_entry)"
   ]
  },
  {
   "cell_type": "markdown",
   "metadata": {},
   "source": [
    "> ## Saving csv file"
   ]
  },
  {
   "cell_type": "code",
   "execution_count": 235,
   "metadata": {},
   "outputs": [],
   "source": [
    "directory = './csv-results'\n",
    "\n",
    "if not os.path.exists(directory):\n",
    "    os.makedirs(directory)\n",
    "\n",
    "# s = stages\n",
    "# ca = cashier_amouts\n",
    "# ct = closing_time\n",
    "# rm = rate_max\n",
    "filename = 'queue_s' + str(stages) \\\n",
    "        + '_ca' + '-'.join(str(x) for x in cashier_amounts) \\\n",
    "        + '_ct' + str(closing_time) \\\n",
    "        + '_rm' + str(rate_max) \\\n",
    "        + '.csv'\n",
    "\n",
    "with open(os.path.join(directory, filename), 'w') as csvfile:\n",
    "    filewriter = csv.writer(csvfile, delimiter=',', quotechar='\"', quoting=csv.QUOTE_MINIMAL)\n",
    "    \n",
    "    filewriter.writerow(['Timestamp','PersonID','Activity'])\n",
    "    for log in logs :\n",
    "        log_msg = log['message'].split(',')\n",
    "        filewriter.writerow([log_msg[0].strip(), log_msg[1].strip(), log_msg[2].strip()])"
   ]
  },
  {
   "cell_type": "markdown",
   "metadata": {},
   "source": [
    "> ## Reading cvs file"
   ]
  },
  {
   "cell_type": "code",
   "execution_count": 236,
   "metadata": {},
   "outputs": [
    {
     "data": {
      "text/html": [
       "<div>\n",
       "<style scoped>\n",
       "    .dataframe tbody tr th:only-of-type {\n",
       "        vertical-align: middle;\n",
       "    }\n",
       "\n",
       "    .dataframe tbody tr th {\n",
       "        vertical-align: top;\n",
       "    }\n",
       "\n",
       "    .dataframe thead th {\n",
       "        text-align: right;\n",
       "    }\n",
       "</style>\n",
       "<table border=\"1\" class=\"dataframe\">\n",
       "  <thead>\n",
       "    <tr style=\"text-align: right;\">\n",
       "      <th></th>\n",
       "      <th>Timestamp</th>\n",
       "      <th>PersonID</th>\n",
       "      <th>Activity</th>\n",
       "    </tr>\n",
       "  </thead>\n",
       "  <tbody>\n",
       "    <tr>\n",
       "      <td>0</td>\n",
       "      <td>06/12/2019: 00:14:32</td>\n",
       "      <td>1</td>\n",
       "      <td>Entered the system</td>\n",
       "    </tr>\n",
       "    <tr>\n",
       "      <td>1</td>\n",
       "      <td>06/12/2019: 00:14:32</td>\n",
       "      <td>1</td>\n",
       "      <td>Answered by cashier 1 at stage 1</td>\n",
       "    </tr>\n",
       "    <tr>\n",
       "      <td>2</td>\n",
       "      <td>06/12/2019: 00:32:39</td>\n",
       "      <td>2</td>\n",
       "      <td>Entered the system</td>\n",
       "    </tr>\n",
       "    <tr>\n",
       "      <td>3</td>\n",
       "      <td>06/12/2019: 00:32:39</td>\n",
       "      <td>2</td>\n",
       "      <td>Answered by cashier 2 at stage 1</td>\n",
       "    </tr>\n",
       "    <tr>\n",
       "      <td>4</td>\n",
       "      <td>06/12/2019: 00:39:07</td>\n",
       "      <td>3</td>\n",
       "      <td>Entered the system</td>\n",
       "    </tr>\n",
       "    <tr>\n",
       "      <td>...</td>\n",
       "      <td>...</td>\n",
       "      <td>...</td>\n",
       "      <td>...</td>\n",
       "    </tr>\n",
       "    <tr>\n",
       "      <td>346</td>\n",
       "      <td>06/12/2019: 30:16:34</td>\n",
       "      <td>38</td>\n",
       "      <td>Answered by cashier 1 at stage 7</td>\n",
       "    </tr>\n",
       "    <tr>\n",
       "      <td>347</td>\n",
       "      <td>06/12/2019: 30:38:38</td>\n",
       "      <td>39</td>\n",
       "      <td>Answered by cashier 3 at stage 6</td>\n",
       "    </tr>\n",
       "    <tr>\n",
       "      <td>348</td>\n",
       "      <td>06/12/2019: 31:48:51</td>\n",
       "      <td>39</td>\n",
       "      <td>Answered by cashier 19 at stage 7</td>\n",
       "    </tr>\n",
       "    <tr>\n",
       "      <td>349</td>\n",
       "      <td>06/12/2019: 33:02:17</td>\n",
       "      <td>38</td>\n",
       "      <td>Got out of the system</td>\n",
       "    </tr>\n",
       "    <tr>\n",
       "      <td>350</td>\n",
       "      <td>06/12/2019: 35:19:59</td>\n",
       "      <td>39</td>\n",
       "      <td>Got out of the system</td>\n",
       "    </tr>\n",
       "  </tbody>\n",
       "</table>\n",
       "<p>351 rows × 3 columns</p>\n",
       "</div>"
      ],
      "text/plain": [
       "                Timestamp  PersonID                           Activity\n",
       "0    06/12/2019: 00:14:32         1                 Entered the system\n",
       "1    06/12/2019: 00:14:32         1   Answered by cashier 1 at stage 1\n",
       "2    06/12/2019: 00:32:39         2                 Entered the system\n",
       "3    06/12/2019: 00:32:39         2   Answered by cashier 2 at stage 1\n",
       "4    06/12/2019: 00:39:07         3                 Entered the system\n",
       "..                    ...       ...                                ...\n",
       "346  06/12/2019: 30:16:34        38   Answered by cashier 1 at stage 7\n",
       "347  06/12/2019: 30:38:38        39   Answered by cashier 3 at stage 6\n",
       "348  06/12/2019: 31:48:51        39  Answered by cashier 19 at stage 7\n",
       "349  06/12/2019: 33:02:17        38              Got out of the system\n",
       "350  06/12/2019: 35:19:59        39              Got out of the system\n",
       "\n",
       "[351 rows x 3 columns]"
      ]
     },
     "execution_count": 236,
     "metadata": {},
     "output_type": "execute_result"
    }
   ],
   "source": [
    "pd.read_csv(os.path.join(directory, filename))"
   ]
  },
  {
   "cell_type": "markdown",
   "metadata": {
    "colab_type": "text",
    "id": "q-gt_ItCLCp9"
   },
   "source": [
    "## Tolerance Function\n",
    "> Returns the averages, variances, and numbers of interactions for each stage."
   ]
  },
  {
   "cell_type": "code",
   "execution_count": 198,
   "metadata": {
    "colab": {},
    "colab_type": "code",
    "id": "frJs458RtUBD"
   },
   "outputs": [],
   "source": [
    "def rSQtol2(tol, alpha, rate, rate_max, fechamento, stages, cashier_amounts, gamma):\n",
    "    global zab2\n",
    "    zab2 = scipy.stats.norm.ppf(1.0-alpha/2.0)\n",
    "\n",
    "    variances = np.zeros(stages)\n",
    "    means = calculate_idle_time (rate, rate_max, fechamento, stages, cashier_amounts, gamma)\n",
    "    \n",
    "    for i in range(1,100):\n",
    "        idle_by_stage = calculate_idle_time (rate, rate_max, fechamento, stages, cashier_amounts, gamma)\n",
    "        for j in range(stages) :\n",
    "            mean = means[j]\n",
    "            means[j] = means[j] + (idle_by_stage[j]-means[j])/(i+1)\n",
    "            variances[j] = (1.0-1.0/i)*variances[j] + (i+1.0)*(means[j]-mean)**2\n",
    "\n",
    "    number_of_iterations = np.full(stages,3000)\n",
    "    \n",
    "    for i in range(stages):\n",
    "        while( 2.0*(variances[i]/number_of_iterations[i])*zab2*zab2 > tol**2 ):\n",
    "            idle_by_stage = calculate_idle_time (rate, rate_max, fechamento, stages, cashier_amounts, gamma)\n",
    "            mean = means[j]\n",
    "            means[i] = means[i] + (idle_by_stage[i]-means[i])/(number_of_iterations[i]+1)\n",
    "            variances[i] = (1.0-1.0/number_of_iterations[i])*variances[i] + (number_of_iterations[i]+1.0)*(means[i]-mean)**2\n",
    "            number_of_iterations[i] += 1\n",
    "\n",
    "    return means,variances,number_of_iterations"
   ]
  },
  {
   "cell_type": "markdown",
   "metadata": {},
   "source": [
    "> ## Running"
   ]
  },
  {
   "cell_type": "code",
   "execution_count": 199,
   "metadata": {
    "colab": {
     "base_uri": "https://localhost:8080/",
     "height": 51
    },
    "colab_type": "code",
    "executionInfo": {
     "elapsed": 1477,
     "status": "ok",
     "timestamp": 1575265626737,
     "user": {
      "displayName": "Daniel Carlier",
      "photoUrl": "https://lh3.googleusercontent.com/a-/AAuE7mAdXGgjSjqWAa7PIZEwQa3ulm05Ujo2WfIY7vgu=s64",
      "userId": "13067588013195259910"
     },
     "user_tz": 180
    },
    "id": "bjvNKUrQ-CDe",
    "outputId": "0cda79e8-e125-4716-a8c8-831262b15c82"
   },
   "outputs": [
    {
     "name": "stdout",
     "output_type": "stream",
     "text": [
      "Queue to stage 1 : the average is in range [6.4616051433440465,6.713050806283286] with probability of 0.95.\n",
      "Queue to stage 2 : the average is in range [11.578004946757328,11.849371877791551] with probability of 0.95.\n"
     ]
    }
   ],
   "source": [
    "tol = 1\n",
    "alpha = 0.05\n",
    "means, variances, number_of_iterations = rSQtol2(tol, alpha, rate, rate_max, closing_time, stages, cashier_amounts, gamma)\n",
    "\n",
    "for stage in range(stages) :\n",
    "    print(\"Queue to stage\",stage+1,\": the average is in range [\"+str(means[stage]-math.sqrt(variances[stage]/number_of_iterations[stage])*zab2)+\",\"+str(means[stage]+math.sqrt(variances[stage]/number_of_iterations[stage])*zab2)+\"] with probability of \"+ str(1.0-alpha)+\".\")"
   ]
  },
  {
   "cell_type": "markdown",
   "metadata": {
    "colab_type": "text",
    "id": "t9YV_gvz4ZEg"
   },
   "source": [
    "## Results"
   ]
  },
  {
   "cell_type": "markdown",
   "metadata": {
    "colab_type": "text",
    "id": "EhSM1qbO-uFr"
   },
   "source": [
    "De forma a melhor analisar visualmente o tempo ocioso dos caixas, foi utilizado o programa Disco para gerar uma simulação das pessoas nas filas nos diferentes estágios.\n",
    "\n",
    "Além deste notebook, enviamos em anexo um arquivo compactado que contém vídeos de simulações feitas no Disco e os respectivos arquivos csv que as geraram.\n",
    "\n",
    "A simulação em questão utilizada para esta análise conta com 10 estágios, sendo que o número de caixas é organizado da seguinte maneira: \n",
    "* Estágio 1: 1 caixa\n",
    "* Estágio 2: 2 caixas\n",
    "* Estágio 3: 3 caixas\n",
    "* Estágio 4: 1 caixa\n",
    "* Estágio 5: 2 caixas\n",
    "* Estágio 6: 3 caixas\n",
    "* Estágio 7: 1 caixa\n",
    "* Estágio 8: 2 caixas\n",
    "* Estágio 9: 3 caixas\n",
    "* Estágio 10: 1 caixa\n",
    "\n",
    "Através da simulação, é possível observar que, devido ao fato do primeiro estágio possuir apenas um caixa, há um afunilamento de pessoas, gerando um aumento significativo da fila e um aumento no tempo ocioso dos caixas do estágio seguinte. No entanto, nos dois próximos estágios, devido a possuirem mais caixas, observa-se que o tempo de espera é significativamente menor. Em seguida, no próximo estágio, há um afunilamento novamente devido a uma redução do número de caixas para 1, gerando um aumento no tempo das filas como de esperado e do tempo de ociosidade.\n",
    "\n",
    "Ao analisar diferentes cenários com diferentes relações de caixas por estágio, é possível observar um ponto interessante. Em casos onde há mais estágios do que caixas, como é o caso do arquivo com a simulação Disco apresentada, observa-se um acúmulo maior de pessoas em filas. Em contrapartida, em simulações onde se prioriza o número de caixas por estágio, a situação se inverte, havendo filas menores. Dado um número fixo de caixas, 10, e ao dispô-los de maneiras diferentes, é possível observar as mudanças em relação aos tempos das filas:\n",
    "\n",
    "##### 2 caixas distribuídos em 5 estágios\n",
    "  * Tempo Ocioso Estágio 1: 0,41263799\n",
    "  * Tempo Ocioso Estágio 2: 3,34144508\n",
    "  * Tempo Ocioso Estágio 3: 3,83466648\n",
    "  * Tempo Ocioso Estágio 4: 11,71537659\n",
    "  * Tempo Ocioso Estágio 5: 11,91268424\n",
    "  * Tempo Ocioso Total: 31,21681038\n",
    "\n",
    "##### 5 caixas distribuídos em 2 estágios\n",
    "  * Tempo Ocioso Estágio 1: 5,3404323\n",
    "  * Tempo Ocioso Estágio 2: 7.6682722\n",
    "  * Tempo Ocioso Total: 13,0087045\n",
    "\n",
    "Como é possível observar através das simulações acima, em relação ao tempo de ociosidade dos caixas, é preferível dispô-los de forma a priorizar um maior número de caixas por estágio a um número maior de estágios por caixa."
   ]
  }
 ],
 "metadata": {
  "colab": {
   "collapsed_sections": [],
   "name": "G2_ProbComp[Frederico-Daniel].ipynb",
   "provenance": []
  },
  "kernelspec": {
   "display_name": "Python 3",
   "language": "python",
   "name": "python3"
  },
  "language_info": {
   "codemirror_mode": {
    "name": "ipython",
    "version": 3
   },
   "file_extension": ".py",
   "mimetype": "text/x-python",
   "name": "python",
   "nbconvert_exporter": "python",
   "pygments_lexer": "ipython3",
   "version": "3.7.4"
  }
 },
 "nbformat": 4,
 "nbformat_minor": 1
}
